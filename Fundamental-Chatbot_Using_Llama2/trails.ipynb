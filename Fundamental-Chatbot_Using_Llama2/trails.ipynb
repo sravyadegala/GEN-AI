{
 "cells": [
  {
   "cell_type": "code",
   "execution_count": 2,
   "metadata": {},
   "outputs": [],
   "source": [
    "from langchain import PromptTemplate\n",
    "from langchain.chains import RetrievalQA\n",
    "from langchain.embeddings import HuggingFaceEmbeddings\n",
    "from langchain.vectorstores import Pinecone\n",
    "import pinecone\n",
    "from langchain.document_loaders import PyPDFLoader, DirectoryLoader\n",
    "from langchain.text_splitter import RecursiveCharacterTextSplitter\n",
    "from langchain.prompts import PromptTemplate\n",
    "from langchain.llms import CTransformers"
   ]
  },
  {
   "cell_type": "code",
   "execution_count": 2,
   "metadata": {},
   "outputs": [],
   "source": [
    "PINECONE_API_KEY = \"ece10b1f-309d-40de-9575-d8c3e81ef022\"\n",
    "PINECONE_API_ENV = \"gcp-starter\""
   ]
  },
  {
   "cell_type": "code",
   "execution_count": 3,
   "metadata": {},
   "outputs": [],
   "source": [
    "#Extract data from the PDF\n",
    "def load_pdf(data):\n",
    "    loader = DirectoryLoader(data,\n",
    "                    glob=\"*.pdf\",\n",
    "                    loader_cls=PyPDFLoader)\n",
    "    \n",
    "    documents = loader.load()\n",
    "\n",
    "    return documents"
   ]
  },
  {
   "cell_type": "code",
   "execution_count": 4,
   "metadata": {},
   "outputs": [],
   "source": [
    "# extracted_data\n",
    "extracted_data = load_pdf(\"data/\")"
   ]
  },
  {
   "cell_type": "code",
   "execution_count": 5,
   "metadata": {},
   "outputs": [
    {
     "data": {
      "text/plain": [
       "[Document(page_content='Applied \\nGenerative AI for \\nBeginners\\nPractical Knowledge on Diffusion Models, \\nChatGPT, and Other LLMs\\n—\\nAkshay Kulkarni\\nAdarsha Shivananda\\nAnoosh Kulkarni\\nDilip Gudivada', metadata={'source': 'data\\\\Applied Generative Ai for Beginners Notes.pdf', 'page': 0}),\n",
       " Document(page_content='Applied Generative AI for \\nBeginners\\nPractical Knowledge on\\xa0Diffusion \\nModels, ChatGPT, and\\xa0Other LLMs\\nAkshay\\xa0Kulkarni\\nAdarsha\\xa0Shivananda\\nAnoosh\\xa0Kulkarni\\nDilip\\xa0Gudivada', metadata={'source': 'data\\\\Applied Generative Ai for Beginners Notes.pdf', 'page': 1})]"
      ]
     },
     "execution_count": 5,
     "metadata": {},
     "output_type": "execute_result"
    }
   ],
   "source": [
    "extracted_data[:2]"
   ]
  },
  {
   "cell_type": "code",
   "execution_count": 6,
   "metadata": {},
   "outputs": [],
   "source": [
    "#Create text chunks\n",
    "def text_split(extracted_data):\n",
    "    text_splitter = RecursiveCharacterTextSplitter(chunk_size = 500, chunk_overlap = 20)\n",
    "    text_chunks = text_splitter.split_documents(extracted_data)\n",
    "\n",
    "    return text_chunks"
   ]
  },
  {
   "cell_type": "code",
   "execution_count": 7,
   "metadata": {},
   "outputs": [
    {
     "name": "stdout",
     "output_type": "stream",
     "text": [
      "length of my chunk: 856\n"
     ]
    }
   ],
   "source": [
    "text_chunks = text_split(extracted_data)\n",
    "print(\"length of my chunk:\", len(text_chunks))"
   ]
  },
  {
   "cell_type": "code",
   "execution_count": 8,
   "metadata": {},
   "outputs": [
    {
     "data": {
      "text/plain": [
       "[Document(page_content='Applied \\nGenerative AI for \\nBeginners\\nPractical Knowledge on Diffusion Models, \\nChatGPT, and Other LLMs\\n—\\nAkshay Kulkarni\\nAdarsha Shivananda\\nAnoosh Kulkarni\\nDilip Gudivada', metadata={'source': 'data\\\\Applied Generative Ai for Beginners Notes.pdf', 'page': 0}),\n",
       " Document(page_content='Applied Generative AI for \\nBeginners\\nPractical Knowledge on\\xa0Diffusion \\nModels, ChatGPT, and\\xa0Other LLMs\\nAkshay\\xa0Kulkarni\\nAdarsha\\xa0Shivananda\\nAnoosh\\xa0Kulkarni\\nDilip\\xa0Gudivada', metadata={'source': 'data\\\\Applied Generative Ai for Beginners Notes.pdf', 'page': 1}),\n",
       " Document(page_content='Applied Generative AI for Beginners: Practical Knowledge on Diffusion Models, \\nChatGPT, and Other LLMs\\nISBN-13 (pbk): 978-1-4842-9993-7   ISBN-13 (electronic): 978-1-4842-9994-4\\nhttps://doi.org/10.1007/978-1-4842-9994-4\\nCopyright © 2023 by Akshay Kulkarni, Adarsha Shivananda, Anoosh Kulkarni,  \\nDilip Gudivada\\nThis work is subject to copyright. All rights are reserved by the Publisher, whether the whole or part of the', metadata={'source': 'data\\\\Applied Generative Ai for Beginners Notes.pdf', 'page': 2}),\n",
       " Document(page_content='material is concerned, specifically the rights of translation, reprinting, reuse of illustrations, recitation, \\nbroadcasting, reproduction on microfilms or in any other physical way, and transmission or information \\nstorage and retrieval, electronic adaptation, computer software, or by similar or dissimilar methodology now \\nknown or hereafter developed.\\nTrademarked names, logos, and images may appear in this book. Rather than use a trademark symbol with', metadata={'source': 'data\\\\Applied Generative Ai for Beginners Notes.pdf', 'page': 2}),\n",
       " Document(page_content='every occurrence of a trademarked name, logo, or image we use the names, logos, and images only in an \\neditorial fashion and to the benefit of the trademark owner, with no intention of infringement of the \\ntrademark.\\nThe use in this publication of trade names, trademarks, service marks, and similar terms, even if they are not \\nidentified as such, is not to be taken as an expression of opinion as to whether or not they are subject to \\nproprietary rights.', metadata={'source': 'data\\\\Applied Generative Ai for Beginners Notes.pdf', 'page': 2}),\n",
       " Document(page_content='proprietary rights.\\nWhile the advice and information in this book are believed to be true and accurate at the date of publication, \\nneither the authors nor the editors nor the publisher can accept any legal responsibility for any errors or \\nomissions that may be made. The publisher makes no warranty, express or implied, with respect to the \\nmaterial contained herein.\\nManaging Director, Apress Media LLC: Welmoed Spahr\\nAcquisitions Editor: Celestin Suresh John\\nDevelopment Editor: Laura Berendson', metadata={'source': 'data\\\\Applied Generative Ai for Beginners Notes.pdf', 'page': 2}),\n",
       " Document(page_content='Editorial Assistant: Gryffin Winkler\\nCover designed by eStudioCalamar\\nCover image designed by Scott Webb on unsplash\\nDistributed to the book trade worldwide by Springer Science+Business Media New\\xa0York, 1 New\\xa0York Plaza, \\nSuite 4600, New\\xa0York, NY 10004-1562, USA.\\xa0Phone 1-800-SPRINGER, fax (201) 348-4505, e-mail orders-ny@\\nspringer-sbm.com, or visit www.springeronline.com. Apress Media, LLC is a California LLC and the sole', metadata={'source': 'data\\\\Applied Generative Ai for Beginners Notes.pdf', 'page': 2}),\n",
       " Document(page_content='member (owner) is Springer Science + Business Media Finance Inc (SSBM Finance Inc). SSBM Finance Inc \\nis a Delaware  corporation.\\nFor information on translations, please e-mail booktranslations@springernature.com; for reprint, \\npaperback, or audio rights, please e-mail bookpermissions@springernature.com.\\nApress titles may be purchased in bulk for academic, corporate, or promotional use. eBook versions and', metadata={'source': 'data\\\\Applied Generative Ai for Beginners Notes.pdf', 'page': 2}),\n",
       " Document(page_content='licenses are also available for most titles. For more information, reference our Print and eBook Bulk Sales \\nweb page at http://www.apress.com/bulk-sales.\\nAny source code or other supplementary material referenced by the author in this book is available to \\nreaders on GitHub. For more detailed information, please visit https://www.apress.com/gp/services/\\nsource-code.\\nPaper in this product is recyclableAkshay\\xa0Kulkarni\\nBangalore, Karnataka, India\\nAdarsha\\xa0Shivananda', metadata={'source': 'data\\\\Applied Generative Ai for Beginners Notes.pdf', 'page': 2}),\n",
       " Document(page_content='Adarsha\\xa0Shivananda\\nHosanagara, Karnataka, IndiaAnoosh\\xa0Kulkarni\\nBangalore, Karnataka, India\\nDilip\\xa0Gudivada\\nBangalore, India', metadata={'source': 'data\\\\Applied Generative Ai for Beginners Notes.pdf', 'page': 2}),\n",
       " Document(page_content='To our families', metadata={'source': 'data\\\\Applied Generative Ai for Beginners Notes.pdf', 'page': 3}),\n",
       " Document(page_content='vTable of Contents\\nAbout the Authors  ���������������������������������������������������������������������������������������������������� xi\\nAbout the Technical Reviewer  ������������������������������������������������������������������������������� xiii\\nIntroduction  ������������������������������������������������������������������������������������������������������������� xv\\nChapter 1:   Introduction to Generative AI  ������������������������������������������������������������������ 1', metadata={'source': 'data\\\\Applied Generative Ai for Beginners Notes.pdf', 'page': 4}),\n",
       " Document(page_content='So, What Is Generative AI?  ������������������������������������������������������������������������������������������������������������ 2\\nComponents of AI  �������������������������������������������������������������������������������������������������������������������������� 3\\nDomains of Generative AI  �������������������������������������������������������������������������������������������������������������� 4', metadata={'source': 'data\\\\Applied Generative Ai for Beginners Notes.pdf', 'page': 4}),\n",
       " Document(page_content='Text Generation  ������������������������������������������������������������������������������������������������������������������������ 4\\nImage Generation  �������������������������������������������������������������������������������������������������������������������� 4\\nAudio Generation  ��������������������������������������������������������������������������������������������������������������������� 5', metadata={'source': 'data\\\\Applied Generative Ai for Beginners Notes.pdf', 'page': 4}),\n",
       " Document(page_content='Video Generation  ��������������������������������������������������������������������������������������������������������������������� 5\\nGenerative AI: Current Players and Their Models  ��������������������������������������������������������������������� 9\\nGenerative AI Applications  ����������������������������������������������������������������������������������������������������� 11', metadata={'source': 'data\\\\Applied Generative Ai for Beginners Notes.pdf', 'page': 4}),\n",
       " Document(page_content='Conclusion  ���������������������������������������������������������������������������������������������������������������������������������� 13\\nChapter 2:   Evolution of Neural Networks to Large Language Models  �������������������� 15\\nNatural Language Processing  ����������������������������������������������������������������������������������������������������� 16', metadata={'source': 'data\\\\Applied Generative Ai for Beginners Notes.pdf', 'page': 4}),\n",
       " Document(page_content='Tokenization  �������������������������������������������������������������������������������������������������������������������������� 17\\nN-grams  �������������������������������������������������������������������������������������������������������������������������������� 17\\nLanguage Representation and Embeddings  �������������������������������������������������������������������������� 19', metadata={'source': 'data\\\\Applied Generative Ai for Beginners Notes.pdf', 'page': 4}),\n",
       " Document(page_content='Probabilistic Models  �������������������������������������������������������������������������������������������������������������������� 20\\nNeural Network–Based Language Models  ���������������������������������������������������������������������������������� 21\\nRecurrent Neural Networks (RNNs)  ��������������������������������������������������������������������������������������� 22', metadata={'source': 'data\\\\Applied Generative Ai for Beginners Notes.pdf', 'page': 4}),\n",
       " Document(page_content='Long Short-Term Memory (LSTM)  ����������������������������������������������������������������������������������������� 23\\nGated Recurrent Unit (GRU)  ��������������������������������������������������������������������������������������������������� 24\\nEncoder-Decoder Networks  ��������������������������������������������������������������������������������������������������� 25', metadata={'source': 'data\\\\Applied Generative Ai for Beginners Notes.pdf', 'page': 4}),\n",
       " Document(page_content='viTransformer  ��������������������������������������������������������������������������������������������������������������������������������� 27\\nLarge Language Models (LLMs)  �������������������������������������������������������������������������������������������������� 29\\nConclusion  ���������������������������������������������������������������������������������������������������������������������������������� 30', metadata={'source': 'data\\\\Applied Generative Ai for Beginners Notes.pdf', 'page': 5}),\n",
       " Document(page_content='Chapter 3:   LLMs and Transformers  ������������������������������������������������������������������������� 33\\nThe Power of Language Models  �������������������������������������������������������������������������������������������������� 33\\nTransformer Architecture  ������������������������������������������������������������������������������������������������������������ 34', metadata={'source': 'data\\\\Applied Generative Ai for Beginners Notes.pdf', 'page': 5}),\n",
       " Document(page_content='Motivation for Transformer  ���������������������������������������������������������������������������������������������������� 35\\nArchitecture  ��������������������������������������������������������������������������������������������������������������������������� 35\\nEncoder-Decoder Architecture ����������������������������������������������������������������������������������������������� 36', metadata={'source': 'data\\\\Applied Generative Ai for Beginners Notes.pdf', 'page': 5}),\n",
       " Document(page_content='Attention  �������������������������������������������������������������������������������������������������������������������������������� 39\\nPosition-wise Feed-Forward Networks  ��������������������������������������������������������������������������������� 47\\nAdvantages and Limitations of Transformer Architecture  ������������������������������������������������������ 51', metadata={'source': 'data\\\\Applied Generative Ai for Beginners Notes.pdf', 'page': 5}),\n",
       " Document(page_content='Conclusion  ���������������������������������������������������������������������������������������������������������������������������������� 53\\nChapter 4:   The ChatGPT Architecture: An In-Depth Exploration of OpenAI’s \\nConversational Language Model  ����������������������������������������������������������� 55\\nThe Evolution of GPT Models ������������������������������������������������������������������������������������������������������� 56', metadata={'source': 'data\\\\Applied Generative Ai for Beginners Notes.pdf', 'page': 5}),\n",
       " Document(page_content='The Transformer Architecture: A Recap  ��������������������������������������������������������������������������������������� 57\\nArchitecture of ChatGPT  �������������������������������������������������������������������������������������������������������������� 59\\nPre-training and Fine-Tuning in ChatGPT  ������������������������������������������������������������������������������������ 70', metadata={'source': 'data\\\\Applied Generative Ai for Beginners Notes.pdf', 'page': 5})]"
      ]
     },
     "execution_count": 8,
     "metadata": {},
     "output_type": "execute_result"
    }
   ],
   "source": [
    "text_chunks[:25]"
   ]
  },
  {
   "cell_type": "code",
   "execution_count": 9,
   "metadata": {},
   "outputs": [],
   "source": [
    "#download embedding model\n",
    "def download_hugging_face_embeddings():\n",
    "    embeddings = HuggingFaceEmbeddings(model_name=\"sentence-transformers/all-MiniLM-L6-v2\")\n",
    "    return embeddings"
   ]
  },
  {
   "cell_type": "code",
   "execution_count": 10,
   "metadata": {},
   "outputs": [],
   "source": [
    "embeddings = download_hugging_face_embeddings()"
   ]
  },
  {
   "cell_type": "code",
   "execution_count": 11,
   "metadata": {},
   "outputs": [
    {
     "data": {
      "text/plain": [
       "HuggingFaceEmbeddings(client=SentenceTransformer(\n",
       "  (0): Transformer({'max_seq_length': 256, 'do_lower_case': False}) with Transformer model: BertModel \n",
       "  (1): Pooling({'word_embedding_dimension': 384, 'pooling_mode_cls_token': False, 'pooling_mode_mean_tokens': True, 'pooling_mode_max_tokens': False, 'pooling_mode_mean_sqrt_len_tokens': False})\n",
       "  (2): Normalize()\n",
       "), model_name='sentence-transformers/all-MiniLM-L6-v2', cache_folder=None, model_kwargs={}, encode_kwargs={})"
      ]
     },
     "execution_count": 11,
     "metadata": {},
     "output_type": "execute_result"
    }
   ],
   "source": [
    "embeddings"
   ]
  },
  {
   "cell_type": "code",
   "execution_count": 12,
   "metadata": {},
   "outputs": [
    {
     "name": "stdout",
     "output_type": "stream",
     "text": [
      "Length 384\n"
     ]
    }
   ],
   "source": [
    "query_result = embeddings.embed_query(\"Hello world\")\n",
    "print(\"Length\", len(query_result))"
   ]
  },
  {
   "cell_type": "code",
   "execution_count": 13,
   "metadata": {},
   "outputs": [
    {
     "data": {
      "text/plain": [
       "[-0.034477267414331436,\n",
       " 0.031023206189274788,\n",
       " 0.006734929047524929,\n",
       " 0.026108982041478157,\n",
       " -0.03936203196644783,\n",
       " -0.16030243039131165,\n",
       " 0.06692398339509964,\n",
       " -0.006441489793360233,\n",
       " -0.04745049402117729,\n",
       " 0.014758839271962643,\n",
       " 0.07087527960538864,\n",
       " 0.05552763119339943,\n",
       " 0.01919335499405861,\n",
       " -0.026251323521137238,\n",
       " -0.010109569877386093,\n",
       " -0.02694045566022396,\n",
       " 0.022307392209768295,\n",
       " -0.02222662791609764,\n",
       " -0.14969263970851898,\n",
       " -0.017493031919002533,\n",
       " 0.007676294539123774,\n",
       " 0.054352253675460815,\n",
       " 0.0032544503919780254,\n",
       " 0.031725917011499405,\n",
       " -0.08462144434452057,\n",
       " -0.029405998066067696,\n",
       " 0.051595620810985565,\n",
       " 0.048124048858881,\n",
       " -0.00331486901268363,\n",
       " -0.058279212564229965,\n",
       " 0.041969265788793564,\n",
       " 0.022210726514458656,\n",
       " 0.12818878889083862,\n",
       " -0.02233896590769291,\n",
       " -0.011656217277050018,\n",
       " 0.06292834132909775,\n",
       " -0.032876402139663696,\n",
       " -0.09122605621814728,\n",
       " -0.03117532841861248,\n",
       " 0.05269954353570938,\n",
       " 0.047034818679094315,\n",
       " -0.08420311659574509,\n",
       " -0.030056139454245567,\n",
       " -0.020744847133755684,\n",
       " 0.00951785035431385,\n",
       " -0.0037217815406620502,\n",
       " 0.007343289442360401,\n",
       " 0.039324335753917694,\n",
       " 0.09327401965856552,\n",
       " -0.0037885704077780247,\n",
       " -0.05274210125207901,\n",
       " -0.05805816128849983,\n",
       " -0.0068643661215901375,\n",
       " 0.005283265374600887,\n",
       " 0.08289296180009842,\n",
       " 0.019362766295671463,\n",
       " 0.006284523755311966,\n",
       " -0.010330776683986187,\n",
       " 0.009032350033521652,\n",
       " -0.03768376260995865,\n",
       " -0.04520610347390175,\n",
       " 0.024016328155994415,\n",
       " -0.006944178603589535,\n",
       " 0.013491666875779629,\n",
       " 0.10005496442317963,\n",
       " -0.07168389856815338,\n",
       " -0.0216950885951519,\n",
       " 0.0316183976829052,\n",
       " -0.051634643226861954,\n",
       " -0.08224772661924362,\n",
       " -0.06569328159093857,\n",
       " -0.009895360097289085,\n",
       " 0.005816400051116943,\n",
       " 0.07355451583862305,\n",
       " -0.034050293266773224,\n",
       " 0.024886099621653557,\n",
       " 0.014488058164715767,\n",
       " 0.02645733207464218,\n",
       " 0.009656756184995174,\n",
       " 0.030217278748750687,\n",
       " 0.05280396714806557,\n",
       " -0.07535987347364426,\n",
       " 0.009897195734083652,\n",
       " 0.02983679249882698,\n",
       " 0.01755557581782341,\n",
       " 0.023091968148946762,\n",
       " 0.001933887368068099,\n",
       " 0.0014001816743984818,\n",
       " -0.04717600718140602,\n",
       " -0.011194308288395405,\n",
       " -0.11420147120952606,\n",
       " -0.019811974838376045,\n",
       " 0.040266212075948715,\n",
       " 0.002192983403801918,\n",
       " -0.07979220151901245,\n",
       " -0.025382336229085922,\n",
       " 0.09448299556970596,\n",
       " -0.028981046751141548,\n",
       " -0.145002543926239,\n",
       " 0.23097741603851318,\n",
       " 0.02773120254278183,\n",
       " 0.03211143612861633,\n",
       " 0.031065043061971664,\n",
       " 0.0428328700363636,\n",
       " 0.06423782557249069,\n",
       " 0.03216315805912018,\n",
       " -0.004876766353845596,\n",
       " 0.0556994192302227,\n",
       " -0.03753232955932617,\n",
       " -0.021505534648895264,\n",
       " -0.028342677280306816,\n",
       " -0.028846904635429382,\n",
       " 0.038353074342012405,\n",
       " -0.01746865175664425,\n",
       " 0.052485328167676926,\n",
       " -0.07487606257200241,\n",
       " -0.031259745359420776,\n",
       " 0.021841589361429214,\n",
       " -0.03989570587873459,\n",
       " -0.008587072603404522,\n",
       " 0.02695656754076481,\n",
       " -0.04849553853273392,\n",
       " 0.01146987359970808,\n",
       " 0.02961820736527443,\n",
       " -0.020572206005454063,\n",
       " 0.013103843666613102,\n",
       " 0.02883346751332283,\n",
       " -3.194198717480234e-33,\n",
       " 0.06478208303451538,\n",
       " -0.018130162730813026,\n",
       " 0.05178993567824364,\n",
       " 0.12198273092508316,\n",
       " 0.02878018654882908,\n",
       " 0.008721956983208656,\n",
       " -0.07052122056484222,\n",
       " -0.01690729148685932,\n",
       " 0.04073967784643173,\n",
       " 0.04211616888642311,\n",
       " 0.025447174906730652,\n",
       " 0.0357462540268898,\n",
       " -0.04914470762014389,\n",
       " 0.0021290022414177656,\n",
       " -0.015546590089797974,\n",
       " 0.05073055997490883,\n",
       " -0.0481853112578392,\n",
       " 0.03588065132498741,\n",
       " -0.0040669748559594154,\n",
       " 0.10172472149133682,\n",
       " -0.05597000569105148,\n",
       " -0.010681062936782837,\n",
       " 0.01123578567057848,\n",
       " 0.09068655967712402,\n",
       " 0.004234429448843002,\n",
       " 0.035138651728630066,\n",
       " -0.00970285665243864,\n",
       " -0.09386516362428665,\n",
       " 0.0928555503487587,\n",
       " 0.008004932664334774,\n",
       " -0.007705426309257746,\n",
       " -0.05208666995167732,\n",
       " -0.01258796639740467,\n",
       " 0.0032669196370989084,\n",
       " 0.006013510283082724,\n",
       " 0.007581599522382021,\n",
       " 0.010517144575715065,\n",
       " -0.08634555339813232,\n",
       " -0.06987880915403366,\n",
       " -0.002533914986997843,\n",
       " -0.09097655117511749,\n",
       " 0.04688732698559761,\n",
       " 0.0520765483379364,\n",
       " 0.007193876430392265,\n",
       " 0.010903693735599518,\n",
       " -0.005229538306593895,\n",
       " 0.01393736433237791,\n",
       " 0.021968355402350426,\n",
       " 0.03420860692858696,\n",
       " 0.060224711894989014,\n",
       " 0.00011668332444969565,\n",
       " 0.014731977134943008,\n",
       " -0.07008923590183258,\n",
       " 0.028499027714133263,\n",
       " -0.027601705864071846,\n",
       " 0.01076838281005621,\n",
       " 0.03483099117875099,\n",
       " -0.022487888112664223,\n",
       " 0.009769042022526264,\n",
       " 0.07722783833742142,\n",
       " 0.021588364616036415,\n",
       " 0.11495617032051086,\n",
       " -0.0680011734366417,\n",
       " 0.023760948330163956,\n",
       " -0.015983937308192253,\n",
       " -0.01782693713903427,\n",
       " 0.06439489126205444,\n",
       " 0.032025717198848724,\n",
       " 0.05027022212743759,\n",
       " -0.005913727451115847,\n",
       " -0.03370805084705353,\n",
       " 0.017840318381786346,\n",
       " 0.016573376953601837,\n",
       " 0.0632965937256813,\n",
       " 0.03467715159058571,\n",
       " 0.046473462134599686,\n",
       " 0.09790615737438202,\n",
       " -0.006635511759668589,\n",
       " 0.025207115337252617,\n",
       " -0.07798829674720764,\n",
       " 0.01692643202841282,\n",
       " -0.0009457895648665726,\n",
       " 0.022471901029348373,\n",
       " -0.038253217935562134,\n",
       " 0.09570480138063431,\n",
       " -0.005350861698389053,\n",
       " 0.01046909298747778,\n",
       " -0.11524059623479843,\n",
       " -0.013262546621263027,\n",
       " -0.01070947851985693,\n",
       " -0.08311733603477478,\n",
       " 0.07327356934547424,\n",
       " 0.0493922233581543,\n",
       " -0.008994347415864468,\n",
       " -0.09584552049636841,\n",
       " 3.36614782706661e-33,\n",
       " 0.12493177503347397,\n",
       " 0.019349701702594757,\n",
       " -0.05822572857141495,\n",
       " -0.03598823398351669,\n",
       " -0.05074669048190117,\n",
       " -0.045662377029657364,\n",
       " -0.08260341733694077,\n",
       " 0.14819476008415222,\n",
       " -0.08842121064662933,\n",
       " 0.06027442589402199,\n",
       " 0.05103018507361412,\n",
       " 0.010303172282874584,\n",
       " 0.14121422171592712,\n",
       " 0.030813805758953094,\n",
       " 0.061033133417367935,\n",
       " -0.05285126343369484,\n",
       " 0.13664892315864563,\n",
       " 0.009189915843307972,\n",
       " -0.01732519455254078,\n",
       " -0.012848632410168648,\n",
       " -0.007995259016752243,\n",
       " -0.050980012863874435,\n",
       " -0.05235058441758156,\n",
       " 0.007593023590743542,\n",
       " -0.015166297554969788,\n",
       " 0.01696031726896763,\n",
       " 0.021270547062158585,\n",
       " 0.020558040589094162,\n",
       " -0.12002810090780258,\n",
       " 0.01446179673075676,\n",
       " 0.026759929955005646,\n",
       " 0.025330713018774986,\n",
       " -0.04275466129183769,\n",
       " 0.006768449675291777,\n",
       " -0.014458579011261463,\n",
       " 0.04526194557547569,\n",
       " -0.09147652983665466,\n",
       " -0.019439082592725754,\n",
       " -0.017833532765507698,\n",
       " -0.054910123348236084,\n",
       " -0.05264108628034592,\n",
       " -0.010459048673510551,\n",
       " -0.05201604217290878,\n",
       " 0.02089199237525463,\n",
       " -0.07997027784585953,\n",
       " -0.01211128756403923,\n",
       " -0.057731445878744125,\n",
       " 0.023178208619356155,\n",
       " -0.008031727746129036,\n",
       " -0.025989286601543427,\n",
       " -0.07995668798685074,\n",
       " -0.020728835836052895,\n",
       " 0.0488177128136158,\n",
       " -0.02038915455341339,\n",
       " -0.04917658120393753,\n",
       " 0.014159676618874073,\n",
       " -0.06362204998731613,\n",
       " -0.007807373534888029,\n",
       " 0.016431551426649094,\n",
       " -0.025682521983981133,\n",
       " 0.013381141237914562,\n",
       " 0.026248741894960403,\n",
       " 0.009978409856557846,\n",
       " 0.06322891265153885,\n",
       " 0.002672187052667141,\n",
       " -0.006582782603800297,\n",
       " 0.016631923615932465,\n",
       " 0.03236640617251396,\n",
       " 0.03794242814183235,\n",
       " -0.03637608513236046,\n",
       " -0.006910961586982012,\n",
       " 0.00015965897182468325,\n",
       " -0.0016335470136255026,\n",
       " -0.027278143912553787,\n",
       " -0.02803812548518181,\n",
       " 0.049681439995765686,\n",
       " -0.02886725217103958,\n",
       " -0.002418083604425192,\n",
       " 0.014774886891245842,\n",
       " 0.0097645940259099,\n",
       " 0.005797603167593479,\n",
       " 0.013486184179782867,\n",
       " 0.005567966494709253,\n",
       " 0.03722710162401199,\n",
       " 0.0072324699722230434,\n",
       " 0.040156275033950806,\n",
       " 0.08150329440832138,\n",
       " 0.0719916969537735,\n",
       " -0.013056163676083088,\n",
       " -0.04288205876946449,\n",
       " -0.01101123820990324,\n",
       " 0.004897788166999817,\n",
       " -0.009229675866663456,\n",
       " 0.03519143536686897,\n",
       " -0.05103500187397003,\n",
       " -1.571437557856825e-08,\n",
       " -0.08862444758415222,\n",
       " 0.023909326642751694,\n",
       " -0.016238754615187645,\n",
       " 0.031700499355793,\n",
       " 0.02728426828980446,\n",
       " 0.052468784153461456,\n",
       " -0.04707099497318268,\n",
       " -0.05884745717048645,\n",
       " -0.06320817023515701,\n",
       " 0.04088853672146797,\n",
       " 0.04982801526784897,\n",
       " 0.10655171424150467,\n",
       " -0.07450231909751892,\n",
       " -0.012495404109358788,\n",
       " 0.01837068609893322,\n",
       " 0.039474062621593475,\n",
       " -0.024797867983579636,\n",
       " 0.014516236260533333,\n",
       " -0.03706920146942139,\n",
       " 0.020015694200992584,\n",
       " -4.860065018874593e-05,\n",
       " 0.00986657477915287,\n",
       " 0.024838773533701897,\n",
       " -0.05245812609791756,\n",
       " 0.029314259067177773,\n",
       " -0.08719190955162048,\n",
       " -0.014499680139124393,\n",
       " 0.026019100099802017,\n",
       " -0.01874633878469467,\n",
       " -0.07620517909526825,\n",
       " 0.035043299198150635,\n",
       " 0.10363949835300446,\n",
       " -0.028050484135746956,\n",
       " 0.012718163430690765,\n",
       " -0.07632549852132797,\n",
       " -0.018652379512786865,\n",
       " 0.02497672103345394,\n",
       " 0.08144532889127731,\n",
       " 0.06875884532928467,\n",
       " -0.06405662000179291,\n",
       " -0.08389385044574738,\n",
       " 0.0613623671233654,\n",
       " -0.03354554623365402,\n",
       " -0.10615334659814835,\n",
       " -0.04008055850863457,\n",
       " 0.032530203461647034,\n",
       " 0.07662484794855118,\n",
       " -0.07301618903875351,\n",
       " 0.00033756825723685324,\n",
       " -0.040871620178222656,\n",
       " -0.07578851282596588,\n",
       " 0.02752765268087387,\n",
       " 0.07462538778781891,\n",
       " 0.01771732047200203,\n",
       " 0.0912184938788414,\n",
       " 0.11022018641233444,\n",
       " 0.0005697841988876462,\n",
       " 0.05146336182951927,\n",
       " -0.014551290310919285,\n",
       " 0.03323199227452278,\n",
       " 0.023792298510670662,\n",
       " -0.022889820858836174,\n",
       " 0.03893749788403511,\n",
       " 0.030206842347979546]"
      ]
     },
     "execution_count": 13,
     "metadata": {},
     "output_type": "execute_result"
    }
   ],
   "source": [
    "# vector representation\n",
    "query_result"
   ]
  },
  {
   "cell_type": "code",
   "execution_count": 14,
   "metadata": {},
   "outputs": [],
   "source": [
    "#pip install -q --upgrade pinecone-client==2.2.4"
   ]
  },
  {
   "cell_type": "code",
   "execution_count": 15,
   "metadata": {},
   "outputs": [],
   "source": [
    "#Initializing the Pinecone\n",
    "pinecone.init(api_key=PINECONE_API_KEY,\n",
    "              environment=PINECONE_API_ENV)\n",
    "\n",
    "index_name=\"aichatbot\"\n",
    "\n",
    "#Creating Embeddings for Each of The Text Chunks & storing\n",
    "docsearch=Pinecone.from_texts([t.page_content for t in text_chunks], embeddings, index_name=index_name)"
   ]
  },
  {
   "cell_type": "markdown",
   "metadata": {},
   "source": [
    "### **If we already have an index in pinecone, so we can directly load it like this**"
   ]
  },
  {
   "cell_type": "code",
   "execution_count": 16,
   "metadata": {},
   "outputs": [
    {
     "name": "stdout",
     "output_type": "stream",
     "text": [
      "Result [Document(page_content='of tools.\\nIn essence, Scikit-LLM represents a powerful synergy between state-of-the-art \\nlanguage understanding and the analytical prowess of scikit-learn, enabling you to \\nextract invaluable insights from text data that were once hidden in plain sight. It is easy \\nto use and provides a range of features that make it a valuable resource for data scientists \\nand machine learning practitioners.\\nHere are some additional details about the features of Scikit-LLM:', metadata={}), Document(page_content='of tools.\\nIn essence, Scikit-LLM represents a powerful synergy between state-of-the-art \\nlanguage understanding and the analytical prowess of scikit-learn, enabling you to \\nextract invaluable insights from text data that were once hidden in plain sight. It is easy \\nto use and provides a range of features that make it a valuable resource for data scientists \\nand machine learning practitioners.\\nHere are some additional details about the features of Scikit-LLM:', metadata={})]\n"
     ]
    }
   ],
   "source": [
    "#If we already have an index we can load it like this\n",
    "docsearch=Pinecone.from_existing_index(index_name, embeddings)\n",
    "\n",
    "query = \"Explain about LLMs using sklearn\"\n",
    "\n",
    "docs=docsearch.similarity_search(query, k=2)\n",
    "\n",
    "print(\"Result\", docs)"
   ]
  },
  {
   "cell_type": "code",
   "execution_count": 17,
   "metadata": {},
   "outputs": [],
   "source": [
    "prompt_template=\"\"\"\n",
    "Use the following pieces of information to answer the user's question.\n",
    "If you don't know the answer, just say that you don't know, don't try to make up an answer.\n",
    "\n",
    "Context: {context}\n",
    "Question: {question}\n",
    "\n",
    "Only return the helpful answer below and nothing else.\n",
    "Helpful answer:\n",
    "\"\"\""
   ]
  },
  {
   "cell_type": "code",
   "execution_count": 18,
   "metadata": {},
   "outputs": [],
   "source": [
    "PROMPT=PromptTemplate(template=prompt_template, \n",
    "                      input_variables=[\"context\", \"question\"])\n",
    "\n",
    "chain_type_kwargs={\"prompt\": PROMPT}"
   ]
  },
  {
   "cell_type": "code",
   "execution_count": 20,
   "metadata": {},
   "outputs": [
    {
     "ename": "RuntimeError",
     "evalue": "Failed to create LLM 'llama' from 'model\\llama-2-7b-chat.ggmlv3.q2_K.bin'.",
     "output_type": "error",
     "traceback": [
      "\u001b[1;31m---------------------------------------------------------------------------\u001b[0m",
      "\u001b[1;31mRuntimeError\u001b[0m                              Traceback (most recent call last)",
      "Cell \u001b[1;32mIn[20], line 1\u001b[0m\n\u001b[1;32m----> 1\u001b[0m llm\u001b[38;5;241m=\u001b[39m\u001b[43mCTransformers\u001b[49m\u001b[43m(\u001b[49m\u001b[43mmodel\u001b[49m\u001b[38;5;241;43m=\u001b[39;49m\u001b[38;5;124;43m\"\u001b[39;49m\u001b[38;5;124;43mmodel\u001b[39;49m\u001b[38;5;124;43m\\\u001b[39;49m\u001b[38;5;124;43mllama-2-7b-chat.ggmlv3.q2_K.bin\u001b[39;49m\u001b[38;5;124;43m\"\u001b[39;49m\u001b[43m,\u001b[49m\n\u001b[0;32m      2\u001b[0m \u001b[43m                  \u001b[49m\u001b[43mmodel_type\u001b[49m\u001b[38;5;241;43m=\u001b[39;49m\u001b[38;5;124;43m\"\u001b[39;49m\u001b[38;5;124;43mllama\u001b[39;49m\u001b[38;5;124;43m\"\u001b[39;49m\u001b[43m,\u001b[49m\n\u001b[0;32m      3\u001b[0m \u001b[43m                  \u001b[49m\u001b[43mconfig\u001b[49m\u001b[38;5;241;43m=\u001b[39;49m\u001b[43m{\u001b[49m\u001b[38;5;124;43m'\u001b[39;49m\u001b[38;5;124;43mmax_new_tokens\u001b[39;49m\u001b[38;5;124;43m'\u001b[39;49m\u001b[43m:\u001b[49m\u001b[38;5;241;43m512\u001b[39;49m\u001b[43m,\u001b[49m\n\u001b[0;32m      4\u001b[0m \u001b[43m                          \u001b[49m\u001b[38;5;124;43m'\u001b[39;49m\u001b[38;5;124;43mtemperature\u001b[39;49m\u001b[38;5;124;43m'\u001b[39;49m\u001b[43m:\u001b[49m\u001b[38;5;241;43m0.6\u001b[39;49m\u001b[43m}\u001b[49m\u001b[43m)\u001b[49m\n",
      "File \u001b[1;32mc:\\Users\\NAVYA\\Downloads\\MY_PYTHON_PRACTICE\\Module_4\\testingopenai\\Medical_Chatbot_Using_Llama2\\mchatbot\\lib\\site-packages\\langchain\\load\\serializable.py:74\u001b[0m, in \u001b[0;36mSerializable.__init__\u001b[1;34m(self, **kwargs)\u001b[0m\n\u001b[0;32m     73\u001b[0m \u001b[38;5;28;01mdef\u001b[39;00m \u001b[38;5;21m__init__\u001b[39m(\u001b[38;5;28mself\u001b[39m, \u001b[38;5;241m*\u001b[39m\u001b[38;5;241m*\u001b[39mkwargs: Any) \u001b[38;5;241m-\u001b[39m\u001b[38;5;241m>\u001b[39m \u001b[38;5;28;01mNone\u001b[39;00m:\n\u001b[1;32m---> 74\u001b[0m     \u001b[38;5;28msuper\u001b[39m()\u001b[38;5;241m.\u001b[39m\u001b[38;5;21m__init__\u001b[39m(\u001b[38;5;241m*\u001b[39m\u001b[38;5;241m*\u001b[39mkwargs)\n\u001b[0;32m     75\u001b[0m     \u001b[38;5;28mself\u001b[39m\u001b[38;5;241m.\u001b[39m_lc_kwargs \u001b[38;5;241m=\u001b[39m kwargs\n",
      "File \u001b[1;32mc:\\Users\\NAVYA\\Downloads\\MY_PYTHON_PRACTICE\\Module_4\\testingopenai\\Medical_Chatbot_Using_Llama2\\mchatbot\\lib\\site-packages\\pydantic\\main.py:339\u001b[0m, in \u001b[0;36mpydantic.main.BaseModel.__init__\u001b[1;34m()\u001b[0m\n",
      "File \u001b[1;32mc:\\Users\\NAVYA\\Downloads\\MY_PYTHON_PRACTICE\\Module_4\\testingopenai\\Medical_Chatbot_Using_Llama2\\mchatbot\\lib\\site-packages\\pydantic\\main.py:1100\u001b[0m, in \u001b[0;36mpydantic.main.validate_model\u001b[1;34m()\u001b[0m\n",
      "File \u001b[1;32mc:\\Users\\NAVYA\\Downloads\\MY_PYTHON_PRACTICE\\Module_4\\testingopenai\\Medical_Chatbot_Using_Llama2\\mchatbot\\lib\\site-packages\\langchain\\llms\\ctransformers.py:70\u001b[0m, in \u001b[0;36mCTransformers.validate_environment\u001b[1;34m(cls, values)\u001b[0m\n\u001b[0;32m     64\u001b[0m     \u001b[38;5;28;01mraise\u001b[39;00m \u001b[38;5;167;01mImportError\u001b[39;00m(\n\u001b[0;32m     65\u001b[0m         \u001b[38;5;124m\"\u001b[39m\u001b[38;5;124mCould not import `ctransformers` package. \u001b[39m\u001b[38;5;124m\"\u001b[39m\n\u001b[0;32m     66\u001b[0m         \u001b[38;5;124m\"\u001b[39m\u001b[38;5;124mPlease install it with `pip install ctransformers`\u001b[39m\u001b[38;5;124m\"\u001b[39m\n\u001b[0;32m     67\u001b[0m     )\n\u001b[0;32m     69\u001b[0m config \u001b[38;5;241m=\u001b[39m values[\u001b[38;5;124m\"\u001b[39m\u001b[38;5;124mconfig\u001b[39m\u001b[38;5;124m\"\u001b[39m] \u001b[38;5;129;01mor\u001b[39;00m {}\n\u001b[1;32m---> 70\u001b[0m values[\u001b[38;5;124m\"\u001b[39m\u001b[38;5;124mclient\u001b[39m\u001b[38;5;124m\"\u001b[39m] \u001b[38;5;241m=\u001b[39m AutoModelForCausalLM\u001b[38;5;241m.\u001b[39mfrom_pretrained(\n\u001b[0;32m     71\u001b[0m     values[\u001b[38;5;124m\"\u001b[39m\u001b[38;5;124mmodel\u001b[39m\u001b[38;5;124m\"\u001b[39m],\n\u001b[0;32m     72\u001b[0m     model_type\u001b[38;5;241m=\u001b[39mvalues[\u001b[38;5;124m\"\u001b[39m\u001b[38;5;124mmodel_type\u001b[39m\u001b[38;5;124m\"\u001b[39m],\n\u001b[0;32m     73\u001b[0m     model_file\u001b[38;5;241m=\u001b[39mvalues[\u001b[38;5;124m\"\u001b[39m\u001b[38;5;124mmodel_file\u001b[39m\u001b[38;5;124m\"\u001b[39m],\n\u001b[0;32m     74\u001b[0m     lib\u001b[38;5;241m=\u001b[39mvalues[\u001b[38;5;124m\"\u001b[39m\u001b[38;5;124mlib\u001b[39m\u001b[38;5;124m\"\u001b[39m],\n\u001b[0;32m     75\u001b[0m     \u001b[38;5;241m*\u001b[39m\u001b[38;5;241m*\u001b[39mconfig,\n\u001b[0;32m     76\u001b[0m )\n\u001b[0;32m     77\u001b[0m \u001b[38;5;28;01mreturn\u001b[39;00m values\n",
      "File \u001b[1;32mc:\\Users\\NAVYA\\Downloads\\MY_PYTHON_PRACTICE\\Module_4\\testingopenai\\Medical_Chatbot_Using_Llama2\\mchatbot\\lib\\site-packages\\ctransformers\\hub.py:157\u001b[0m, in \u001b[0;36mAutoModelForCausalLM.from_pretrained\u001b[1;34m(cls, model_path_or_repo_id, model_type, model_file, config, lib, local_files_only, **kwargs)\u001b[0m\n\u001b[0;32m    150\u001b[0m \u001b[38;5;28;01melif\u001b[39;00m path_type \u001b[38;5;241m==\u001b[39m \u001b[38;5;124m\"\u001b[39m\u001b[38;5;124mrepo\u001b[39m\u001b[38;5;124m\"\u001b[39m:\n\u001b[0;32m    151\u001b[0m     model_path \u001b[38;5;241m=\u001b[39m \u001b[38;5;28mcls\u001b[39m\u001b[38;5;241m.\u001b[39m_find_model_path_from_repo(\n\u001b[0;32m    152\u001b[0m         model_path_or_repo_id,\n\u001b[0;32m    153\u001b[0m         model_file,\n\u001b[0;32m    154\u001b[0m         local_files_only\u001b[38;5;241m=\u001b[39mlocal_files_only,\n\u001b[0;32m    155\u001b[0m     )\n\u001b[1;32m--> 157\u001b[0m \u001b[38;5;28;01mreturn\u001b[39;00m \u001b[43mLLM\u001b[49m\u001b[43m(\u001b[49m\n\u001b[0;32m    158\u001b[0m \u001b[43m    \u001b[49m\u001b[43mmodel_path\u001b[49m\u001b[38;5;241;43m=\u001b[39;49m\u001b[43mmodel_path\u001b[49m\u001b[43m,\u001b[49m\n\u001b[0;32m    159\u001b[0m \u001b[43m    \u001b[49m\u001b[43mmodel_type\u001b[49m\u001b[38;5;241;43m=\u001b[39;49m\u001b[43mmodel_type\u001b[49m\u001b[43m,\u001b[49m\n\u001b[0;32m    160\u001b[0m \u001b[43m    \u001b[49m\u001b[43mconfig\u001b[49m\u001b[38;5;241;43m=\u001b[39;49m\u001b[43mconfig\u001b[49m\u001b[38;5;241;43m.\u001b[39;49m\u001b[43mconfig\u001b[49m\u001b[43m,\u001b[49m\n\u001b[0;32m    161\u001b[0m \u001b[43m    \u001b[49m\u001b[43mlib\u001b[49m\u001b[38;5;241;43m=\u001b[39;49m\u001b[43mlib\u001b[49m\u001b[43m,\u001b[49m\n\u001b[0;32m    162\u001b[0m \u001b[43m\u001b[49m\u001b[43m)\u001b[49m\n",
      "File \u001b[1;32mc:\\Users\\NAVYA\\Downloads\\MY_PYTHON_PRACTICE\\Module_4\\testingopenai\\Medical_Chatbot_Using_Llama2\\mchatbot\\lib\\site-packages\\ctransformers\\llm.py:205\u001b[0m, in \u001b[0;36mLLM.__init__\u001b[1;34m(self, model_path, model_type, config, lib)\u001b[0m\n\u001b[0;32m    198\u001b[0m \u001b[38;5;28mself\u001b[39m\u001b[38;5;241m.\u001b[39m_llm \u001b[38;5;241m=\u001b[39m \u001b[38;5;28mself\u001b[39m\u001b[38;5;241m.\u001b[39m_lib\u001b[38;5;241m.\u001b[39mctransformers_llm_create(\n\u001b[0;32m    199\u001b[0m     model_path\u001b[38;5;241m.\u001b[39mencode(),\n\u001b[0;32m    200\u001b[0m     model_type\u001b[38;5;241m.\u001b[39mencode(),\n\u001b[0;32m    201\u001b[0m     config\u001b[38;5;241m.\u001b[39mcontext_length,\n\u001b[0;32m    202\u001b[0m     config\u001b[38;5;241m.\u001b[39mgpu_layers,\n\u001b[0;32m    203\u001b[0m )\n\u001b[0;32m    204\u001b[0m \u001b[38;5;28;01mif\u001b[39;00m \u001b[38;5;28mself\u001b[39m\u001b[38;5;241m.\u001b[39m_llm \u001b[38;5;129;01mis\u001b[39;00m \u001b[38;5;28;01mNone\u001b[39;00m:\n\u001b[1;32m--> 205\u001b[0m     \u001b[38;5;28;01mraise\u001b[39;00m \u001b[38;5;167;01mRuntimeError\u001b[39;00m(\n\u001b[0;32m    206\u001b[0m         \u001b[38;5;124mf\u001b[39m\u001b[38;5;124m\"\u001b[39m\u001b[38;5;124mFailed to create LLM \u001b[39m\u001b[38;5;124m'\u001b[39m\u001b[38;5;132;01m{\u001b[39;00mmodel_type\u001b[38;5;132;01m}\u001b[39;00m\u001b[38;5;124m'\u001b[39m\u001b[38;5;124m from \u001b[39m\u001b[38;5;124m'\u001b[39m\u001b[38;5;132;01m{\u001b[39;00mmodel_path\u001b[38;5;132;01m}\u001b[39;00m\u001b[38;5;124m'\u001b[39m\u001b[38;5;124m.\u001b[39m\u001b[38;5;124m\"\u001b[39m\n\u001b[0;32m    207\u001b[0m     )\n",
      "\u001b[1;31mRuntimeError\u001b[0m: Failed to create LLM 'llama' from 'model\\llama-2-7b-chat.ggmlv3.q2_K.bin'."
     ]
    }
   ],
   "source": [
    "llm=CTransformers(model=\"C:\\Users\\NAVYA\\Downloads\\MY_PYTHON_PRACTICE\\Module_4\\testingopenai\\Medical_Chatbot_Using_Llama2\\model\\llama-2-7b-chat.ggmlv3.q4_0.bin\",\n",
    "                  model_type=\"llama\",\n",
    "                  config={'max_new_tokens':512,\n",
    "                          'temperature':0.6})"
   ]
  },
  {
   "cell_type": "code",
   "execution_count": null,
   "metadata": {},
   "outputs": [],
   "source": [
    "qa=RetrievalQA.from_chain_type(\n",
    "    llm=llm, \n",
    "    chain_type=\"stuff\", \n",
    "    retriever=docsearch.as_retriever(search_kwargs={'k': 2}),\n",
    "    return_source_documents=True, \n",
    "    chain_type_kwargs=chain_type_kwargs)"
   ]
  },
  {
   "cell_type": "code",
   "execution_count": null,
   "metadata": {},
   "outputs": [
    {
     "name": "stdout",
     "output_type": "stream",
     "text": [
      "Response :  Scikit-LLM is a library that combines natural language processing (NLP) techniques with scikit-learn's machine learning algorithms to extract insights from text data. It provides various features such as tokenization, stemming, lemmatization, named entity recognition, sentiment analysis, and topic modeling. Additionally, it allows users to train custom models using their own preprocessed text data.\n"
     ]
    }
   ],
   "source": [
    "user_input=input(f\"Input Prompt:\")\n",
    "result=qa({\"query\": user_input})\n",
    "print(\"Response : \", result[\"result\"])"
   ]
  },
  {
   "cell_type": "code",
   "execution_count": 22,
   "metadata": {},
   "outputs": [],
   "source": [
    "# while True:\n",
    "#     user_input=input(f\"Input Prompt:\") \n",
    "#     result=qa({\"query\": user_input})\n",
    "#     print(\"Response : \", result[\"result\"])"
   ]
  },
  {
   "cell_type": "code",
   "execution_count": null,
   "metadata": {},
   "outputs": [],
   "source": []
  }
 ],
 "metadata": {
  "kernelspec": {
   "display_name": "mchatbot",
   "language": "python",
   "name": "python3"
  },
  "language_info": {
   "codemirror_mode": {
    "name": "ipython",
    "version": 3
   },
   "file_extension": ".py",
   "mimetype": "text/x-python",
   "name": "python",
   "nbconvert_exporter": "python",
   "pygments_lexer": "ipython3",
   "version": "3.10.0"
  }
 },
 "nbformat": 4,
 "nbformat_minor": 2
}
